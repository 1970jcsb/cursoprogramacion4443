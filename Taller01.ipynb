{
  "nbformat": 4,
  "nbformat_minor": 0,
  "metadata": {
    "colab": {
      "provenance": []
    },
    "kernelspec": {
      "name": "python3",
      "display_name": "Python 3"
    },
    "language_info": {
      "name": "python"
    }
  },
  "cells": [
    {
      "cell_type": "code",
      "execution_count": null,
      "metadata": {
        "id": "6Pbxt-2Adqkf"
      },
      "outputs": [],
      "source": [
        "\n",
        "nombrep = \"Juan Carlos\"\n",
        "print (nombrep)\n",
        "apellidosp = \"Sanchez Burgos\"\n",
        "print (apellidosp)\n",
        "direccionp = \"Carrera 103c # 137a-72 Suba Costa Sur Bogota\"\n",
        "print (direccionp)\n",
        "telefonocel = 3015260330\n",
        "print (telefonocel)\n",
        "edad=\"54\"\n",
        "print(edad)\n",
        "estadocivilp = \"Soltero\"\n",
        "print (estadocivilp)\n",
        "hijosp = \"1\"\n",
        "print (hijosp)\n",
        "estaturap = \"1700cms\"\n",
        "print (estaturap)\n",
        "fechadecontatacionp = \"10/05/2023\"\n",
        "print (fechadecontatacionp)\n",
        "sueldobasicop=5000000\n",
        "print (sueldobasicop)\n",
        "diaslaboradosp=\"30 dias\"\n",
        "print (diaslaboradosp)\n"
      ]
    },
    {
      "cell_type": "code",
      "source": [
        "def nombrep(nom):\n",
        "   print (\"Su nombre es:\" + nom)\n",
        "nombre = input(\"Digite su Nombre:\")\n",
        "nombrep(nombre)"
      ],
      "metadata": {
        "id": "e2Ppgx6C-v8-"
      },
      "execution_count": null,
      "outputs": []
    },
    {
      "cell_type": "code",
      "source": [
        "def apellidosp(ape):\n",
        "  print(\"Sus Apellidos son:\" + ape)\n",
        "apellidos = input(\"Digite su Apellidos:\")  \n",
        "apellidosp(apellidos)"
      ],
      "metadata": {
        "id": "jrhp0FXl-4Cn"
      },
      "execution_count": null,
      "outputs": []
    },
    {
      "cell_type": "code",
      "source": [
        "def direccionp(dir):\n",
        "  print(\"Su Direccion es:\" + dir) \n",
        "direccion = input(\"Digite su Direccion:\")\n",
        "direccionp(direccion)"
      ],
      "metadata": {
        "id": "cM_4qfA2Afx4"
      },
      "execution_count": null,
      "outputs": []
    },
    {
      "cell_type": "code",
      "source": [
        "def telefonocel(tel):\n",
        "  print(\"Su numero de celular es:\" + \"+57\"+ tel)\n",
        "telefonocelular = input(\"Digite su numero de Celular:\")   \n",
        "telefonocel(telefonocelular)"
      ],
      "metadata": {
        "id": "suxaSiIGBk8-"
      },
      "execution_count": null,
      "outputs": []
    },
    {
      "cell_type": "code",
      "source": [
        "def edadp(edad):\n",
        "  print(\"Su Edad es:\" + edad + \" años\")\n",
        "edadpersonal = input(\"Digite su Edad:\") \n",
        "edadp(edadpersonal)"
      ],
      "metadata": {
        "id": "LLDdXH3NAcGZ"
      },
      "execution_count": null,
      "outputs": []
    },
    {
      "cell_type": "code",
      "source": [
        "def estadocivilp(est):\n",
        "  print(\"Su Estado Civil es:\" + est)\n",
        "estadocivilpersonal = input(\"Digite su Estado Civil:\")\n",
        "estadocivilp(estadocivilpersonal)"
      ],
      "metadata": {
        "id": "W7fRNdxWFs7G"
      },
      "execution_count": null,
      "outputs": []
    },
    {
      "cell_type": "code",
      "source": [
        "def hijosp(hij):\n",
        "  print(\"Su Numero de Hijos es:\" + hij + \" Hijos\")\n",
        "hijospersonales = input(\"Digita su Numero de Hijos:\")  \n",
        "hijosp(hijospersonales)"
      ],
      "metadata": {
        "id": "x4QEmgXXGugE"
      },
      "execution_count": null,
      "outputs": []
    },
    {
      "cell_type": "code",
      "source": [
        "def estaturap(est):\n",
        "  print(\"Su Estatura es:\" + est + \"cms\")\n",
        "estatura = input(\"Digite su Estatura en cms:\")\n",
        "estaturap(estatura)"
      ],
      "metadata": {
        "id": "jbT_2ijJHnbw"
      },
      "execution_count": null,
      "outputs": []
    },
    {
      "cell_type": "code",
      "source": [
        "def contratap(fecha):\n",
        "  print(\"Su Fecha de Contratacion fue el:\" + fecha)\n",
        "\n",
        "contratacion = input(\"Digite Fecha de Contratacion:\")\n",
        "contratap(contratacion)"
      ],
      "metadata": {
        "id": "_1A82PfzKwQm"
      },
      "execution_count": null,
      "outputs": []
    },
    {
      "cell_type": "code",
      "source": [
        "def sueldobasicop(sueldo):\n",
        "  print(\"Su Sueldo Basico es:\" + sueldo + \" Pesos\")\n",
        "sueldobasico = input(\"Digite su Sueldo Basico:\")\n",
        "sueldobasicop(sueldobasico)"
      ],
      "metadata": {
        "id": "fiQM0ZEEMhC2"
      },
      "execution_count": null,
      "outputs": []
    },
    {
      "cell_type": "code",
      "source": [
        "def diaslaboradosp(dias):\n",
        "  print(\"Sus dias Laborados son:\" + dias + \" dias\")\n",
        "diaslaborados = input(\"Digite sus Dias Laborados:\")\n",
        "diaslaboradosp(diaslaborados)"
      ],
      "metadata": {
        "id": "WY4PJc8wN7-2"
      },
      "execution_count": null,
      "outputs": []
    },
    {
      "cell_type": "markdown",
      "source": [
        "Si el empleado es mayor de 55 años disfrutará de un bono de prepensión correspondiente al 5% de su sueldo básico."
      ],
      "metadata": {
        "id": "58ofvN3FA6Qr"
      }
    },
    {
      "cell_type": "code",
      "source": [
        "edad = int(input(\"Digite Edad:\"))\n",
        "\n",
        "if edad >= 55:\n",
        "   print(\"Aplica Bono de Prepencion del 5% del Salario\")\n",
        "else:\n",
        "   print(\"No Aplica Bono de Prepension\")   \n"
      ],
      "metadata": {
        "id": "mBJpRxZei8W3"
      },
      "execution_count": null,
      "outputs": []
    },
    {
      "cell_type": "markdown",
      "source": [
        "Si el empleado es casado y tiene hijos se le otorgará un paseo cada diciembre"
      ],
      "metadata": {
        "id": "6PSDgN-tBE4n"
      }
    },
    {
      "cell_type": "code",
      "source": [
        "hijo = int(input(\"Digite nro de Hijos:\"))\n",
        "if hijo == 3:\n",
        "   print(\"Aplica Paseo cada Diciembre:\")\n",
        "else:\n",
        "   print(\"No Aplica Paseo en Diciembre:\")  \n",
        "\n",
        "estadocivil = input(\"Digite Estado Civil:\") \n",
        "if estadocivil in \"Casado\":\n",
        "   print(\"Aplica Paseo cada Diciembre:\") \n",
        "else:\n",
        "   print(\"No Aplica Paseo en Diciembre:\")   "
      ],
      "metadata": {
        "id": "_-2oq65peIVk"
      },
      "execution_count": null,
      "outputs": []
    },
    {
      "cell_type": "markdown",
      "source": [
        "Si el sueldo básico está entre 1000000 y 1500000 tendrá una comisión del 2% sobre el valor del sueldo; Si el sueldo básico está entre 1500001 y 2000000 tendrá una comisión del 5% sobre el valor del sueldo; para todos los demás casos no habrá comisión."
      ],
      "metadata": {
        "id": "yWgMVs90BV-X"
      }
    },
    {
      "cell_type": "code",
      "source": [
        "sueldo = int(input(\"Digite Salario1:\"))\n",
        "if sueldo1 >= 1000000 <= 1500000:\n",
        "   print(\"Tiene una Comision del 2%:\")\n",
        "else:\n",
        "   print(\"No tiene Comision del 2%:\")  \n",
        "\n",
        "sueldo2 = int(input(\"Digite Salario2:\"))\n",
        "if sueldo2 >=1500001 <=2000000:\n",
        "   print(\"Tiene una Comision del 5%:\")    \n",
        "else:\n",
        "   print(\"No Tiene Comision del 5%:\")  "
      ],
      "metadata": {
        "id": "S2S3ojeu4gem"
      },
      "execution_count": null,
      "outputs": []
    },
    {
      "cell_type": "markdown",
      "source": [
        "Si el empleado trabajó más de 20 días al mes y su sueldo es menor a 1000000 tendrá derecho a un bono de alimentación."
      ],
      "metadata": {
        "id": "mv44Ls4sBfLu"
      }
    },
    {
      "cell_type": "code",
      "source": [
        "dias = int(input(\"Digite cantidad de dias trabajados:\"))\n",
        "if dias >= 20:\n",
        "   print(\"Tiene derecho a Bono de Alimentacion:\")\n",
        "else:\n",
        "   print(\"No tiene derecho a Bono de Alimentacion:\")\n",
        "salario = int(input(\"Digite Salario:\")) \n",
        "if salario <= 1000000:\n",
        "    print(\"Tiene derecho a Bono de Alimentacion:\")\n",
        "else: \n",
        "    print(\"No tiene derecho a Bono de Alimentacion:\")    "
      ],
      "metadata": {
        "id": "ITVKfe-PAVJF"
      },
      "execution_count": null,
      "outputs": []
    }
  ]
}