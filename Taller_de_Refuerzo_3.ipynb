{
  "nbformat": 4,
  "nbformat_minor": 0,
  "metadata": {
    "colab": {
      "provenance": []
    },
    "kernelspec": {
      "name": "python3",
      "display_name": "Python 3"
    },
    "language_info": {
      "name": "python"
    }
  },
  "cells": [
    {
      "cell_type": "code",
      "execution_count": null,
      "metadata": {
        "id": "4m0W7BXtLd4y"
      },
      "outputs": [],
      "source": [
        "# Ejercicio numero 1 \n",
        "# por default la función INPUT() - STR\n",
        "\n",
        "vent1= float(input(\"Digite el valor de la venta 1:\"))\n",
        "vent2= float(input(\"Digite el valor de la venta 2:\"))\n",
        "vent3= float(input(\"Digite el valor de la venta 3:\"))\n",
        "resultado = vent1 + vent2 + vent3\n",
        "# Visualiza el total de las ventas\n",
        "print(\"La suma total de las ventas {:,.0f} + {:,.0f} + {:,.0f} es = {:,.0f}\" .format (vent1 , vent2 , vent3 , resultado))\n",
        "# Valor del total de las ventas por la comision de 10%\n",
        "comision = resultado * 0.10\n",
        "# Visulaiza en pantalla la comision de las ventas hechas en los tres meses\n",
        "print(f\"Las ventas hechas en los tres meses es = {resultado:,.0f} y el total a pagar en comision es = {comision:,.0f}\")\n",
        "\n"
      ]
    },
    {
      "cell_type": "code",
      "source": [
        "# Ejercicio 1.1\n",
        "def suma (vent1, vent2, vent3):\n",
        "  res = vent1 + vent2 + vent3\n",
        "  return res\n",
        "vent1= float(input(\"Digite el valor de la venta 1:\"))\n",
        "vent2= float(input(\"Digite el valor de la venta 2:\"))\n",
        "vent3= float(input(\"Digite el valor de la venta 3:\"))\n",
        "resultado = suma (vent1, vent2,  vent3)\n",
        "# Visualiza el total de las ventas\n",
        "print(\"La suma total de las ventas {:,.0f} + {:,.0f} + {:,.0f} es = {:,.0f}\" .format (vent1 , vent2 , vent3 , resultado))\n",
        "# Valor del total de las ventas por la comision de 10%\n",
        "comision = resultado * 0.10\n",
        "# Visulaiza en pantalla la comision de las ventas hechas en los tres meses\n",
        "print(f\"Las ventas hechas en los tres meses es = {resultado:,.0f} y el total a pagar en comision es = {comision:,.0f}\")"
      ],
      "metadata": {
        "id": "YKCmhFU3xCAA"
      },
      "execution_count": null,
      "outputs": []
    },
    {
      "cell_type": "code",
      "source": [
        "# Ejercicio numero 2\n",
        "# por default la función INPUT() - STR\n",
        "venta= float(input(\"Digite el valor de la venta:\"))\n",
        "# visualiza el costo de la venta\n",
        "print (\"Valor de la venta es {:,.0f}\".format (venta))\n",
        "# Visualiza el valos del descuento del 15 %\n",
        "Descuento = venta * 0.85\n",
        "print (f\" El Valor de la venta es = {venta:,.0f} y el costo de la venta con el 15 % de descuento es = {Descuento:,.0f}\")"
      ],
      "metadata": {
        "id": "7GwUDYiYLoLk"
      },
      "execution_count": null,
      "outputs": []
    },
    {
      "cell_type": "code",
      "source": [
        "# Ejercicio numero 3\n",
        "cal1 = float(input(\"Digite la calificaicón 1: \"))\n",
        "cal2 = float(input(\"Digite la calificaicón 2: \"))\n",
        "cal3 = float(input(\"Digite la calificaicón 3: \"))\n",
        "\n",
        "Promedio = round ((cal1 + cal2 + cal3 ) /3,2)\n",
        "\n",
        "print(f\"El Promedio es= {Promedio}\")\n",
        "\n"
      ],
      "metadata": {
        "id": "OUY-9ctvL6c7"
      },
      "execution_count": null,
      "outputs": []
    },
    {
      "cell_type": "code",
      "source": [
        "# Ejercicio numero 3.1\n",
        "def suma (cal1, cal2, cal3): \n",
        "   res = cal1 + cal2\n",
        "   return res \n",
        "cal1 = float(input(\"Digite la calificaicón 1: \"))\n",
        "cal2 = float(input(\"Digite la calificaicón 2: \"))\n",
        "cal3 = float(input(\"Digite la calificaicón 3: \"))\n",
        "\n",
        "Promedio = round ((cal1 + cal2 + cal3 ) /3,2)\n",
        "\n",
        "print(f\"El Promedio es= {Promedio}\")"
      ],
      "metadata": {
        "id": "l_svykVrxPQa"
      },
      "execution_count": null,
      "outputs": []
    },
    {
      "cell_type": "code",
      "source": [
        "# Ejercicio numero 4\n",
        "Hombres = int(input(\"Digite el numero de Hombres:\"))\n",
        "Mujeres = int(input(\"Digite el numero de Mujeres:\"))\n",
        "# Visulaiza el total de Personas Hombres y Mujeres\n",
        "Total = Hombres + Mujeres\n",
        "# Visualiza el Porcentaje de Hombres y Mujeres\n",
        "print(f\"Porcentaje de Hombres es = {Hombres/Total*100:,.0f} %\")\n",
        "print(f\"Porcentaje de Mujeres es = {Mujeres/Total*100:,.0f} %\")\n",
        "\n",
        "\n",
        "\n",
        "\n"
      ],
      "metadata": {
        "id": "ymq62vurNCxC"
      },
      "execution_count": null,
      "outputs": []
    },
    {
      "cell_type": "code",
      "source": [
        "# Ejercicio 4.1\n",
        "def suma (Hombres, Mujeres):\n",
        "   res = Hombres + Mujeres\n",
        "   return res \n",
        "Hombres = int(input(\"Digite el numero de Hombres:\"))\n",
        "Mujeres = int(input(\"Digite el numero de Mujeres:\"))\n",
        "# Visulaiza el total de Personas Hombres y Mujeres\n",
        "Total = Hombres + Mujeres\n",
        "# Visualiza el Porcentaje de Hombres y Mujeres\n",
        "print(f\"Porcentaje de Hombres es = {Hombres/Total*100:,.0f} %\")\n",
        "print(f\"Porcentaje de Mujeres es = {Mujeres/Total*100:,.0f} %\")"
      ],
      "metadata": {
        "id": "9QYxoQ14xuq2"
      },
      "execution_count": null,
      "outputs": []
    }
  ]
}