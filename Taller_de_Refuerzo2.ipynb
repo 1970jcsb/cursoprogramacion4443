{
  "nbformat": 4,
  "nbformat_minor": 0,
  "metadata": {
    "colab": {
      "provenance": []
    },
    "kernelspec": {
      "name": "python3",
      "display_name": "Python 3"
    },
    "language_info": {
      "name": "python"
    }
  },
  "cells": [
    {
      "cell_type": "markdown",
      "source": [
        "Se necesita un sistema que despliega una tabla de\n",
        "multiplicar de un número dado por el usuario. ciclo for"
      ],
      "metadata": {
        "id": "zWpQz2Y9gOEf"
      }
    },
    {
      "cell_type": "code",
      "source": [
        "num = int(input(\"Digite los numeros de la tabla de multiplicar: \"))\n",
        "\n",
        "for p in range(11):\n",
        "  print(p , \" x \", num , \" = \", p * num)"
      ],
      "metadata": {
        "id": "qH4bOCq8gP24"
      },
      "execution_count": null,
      "outputs": []
    },
    {
      "cell_type": "markdown",
      "source": [
        "Se necesita un sistema que pida un sueldo de un\n",
        "trabajador, si el sueldo es mayor a 655000, no tedrá\n",
        "ninguna bonificación, pero si es menor tiene bonificación\n",
        "del 4%. Al final se desea saber el total del sueldo con\n",
        "o sin bonificación. Preguntar si desea ejecutar de nuevo\n",
        "el programa con el ciclo while."
      ],
      "metadata": {
        "id": "28aNe3uUgdI7"
      }
    },
    {
      "cell_type": "code",
      "source": [
        "Sueldo = int(input(\"Digite Salario:\"))\n",
        "if Sueldo <65500:\n",
        "   print (\"Valor del sueldo es {:,.0f}\".format (Sueldo))\n",
        "   Bonificacion = sueldo * 0.4\n",
        "   print (f\" El Valor del Sueldo es = {Sueldo:,.0f} y la Comision del 4 % es = {Bonificacion:,.0f}\")\n",
        "else:\n",
        "   print(\"No tiene Bonificacion del 4%:\") "
      ],
      "metadata": {
        "id": "x3mW996Ms2a6"
      },
      "execution_count": null,
      "outputs": []
    },
    {
      "cell_type": "markdown",
      "source": [
        "Un maestro necesita un sistema para capturar las\n",
        "calificaciones de 5 parciales de sus alumnos, después\n",
        "recapturarlas necesita que se despliegue el promedio,\n",
        "cuando ya no quiera capturar más alumnos, nece sita que\n",
        "se despliegue el promedio general de todos los alumnos\n",
        "capturados. Preguntar si desea ejecutar de nuevo el\n",
        "programa con el ciclo while."
      ],
      "metadata": {
        "id": "eT7woip4gs8e"
      }
    },
    {
      "cell_type": "code",
      "source": [
        "resp = \"si\"\n",
        "while resp == \"si\" or resp == \"s\":\n",
        "  Alumno = input(\"Digite Nombre de Alumno:\")\n",
        "  cal1 = float(input(\"Digite la calificación 1: \"))\n",
        "  cal2 = float(input(\"Digite la Calificación 2: \"))\n",
        "  cal3 = float(input(\"Digite la Calificación 3: \"))\n",
        "  cal4 = float(input(\"Digite La Calificacion 4:\"))\n",
        "  cal5 = float(input(\"Digite La Calificacion 5:\"))\n",
        "\n",
        "  Promedio = round((cal1 + cal2 + cal3 + cal4 + cal5)/3, 2)\n",
        "  print(f\"El Promedio es= {Promedio}\")\n",
        "  resp = input(\"¿Desea Cácular otras 5 calificaciones? \")"
      ],
      "metadata": {
        "id": "9pLjoJqsg3sB"
      },
      "execution_count": null,
      "outputs": []
    },
    {
      "cell_type": "code",
      "source": [
        "def suma (cal1, cal2, cal3, cal4, cal5): \n",
        "   res = cal1 + cal2 + cal3 + cal4 + cal5\n",
        "   return res \n",
        "cal1 = float(input(\"Digite la calificaicón 1: \"))\n",
        "cal2 = float(input(\"Digite la calificaicón 2: \"))\n",
        "cal3 = float(input(\"Digite la calificaicón 3: \"))\n",
        "cal4 = float(input(\"Digite la calificaicón 4: \"))\n",
        "cal5 = float(input(\"Digite la calificaicón 5: \"))\n",
        "Promedio = round ((cal1 + cal2 + cal3 + cal4 +cal5 ) /3,2)\n",
        "\n",
        "print(f\"El Promedio es= {Promedio}\")\n"
      ],
      "metadata": {
        "id": "xCmpeZnS8lgz"
      },
      "execution_count": null,
      "outputs": []
    },
    {
      "cell_type": "markdown",
      "source": [
        "Crear un bucle que cuente todos los números pares hasta\n",
        "el 100 ciclo for"
      ],
      "metadata": {
        "id": "DoeD_XHwg6hT"
      }
    },
    {
      "cell_type": "code",
      "source": [
        "for i in range(0,101,2):\n",
        "  print(i)"
      ],
      "metadata": {
        "id": "oJrKt4rTg_ol"
      },
      "execution_count": null,
      "outputs": []
    },
    {
      "cell_type": "markdown",
      "source": [
        "Haz una tabla de multiplicar utilizando el ciclo for\n",
        "ciclo for"
      ],
      "metadata": {
        "id": "hUc2mUg8hAh3"
      }
    },
    {
      "cell_type": "code",
      "source": [
        "num = int(input(\"Digite los numeros de la tabla de multiplicar: \"))\n",
        "\n",
        "for p in range(11):\n",
        "  print(p , \" x \", num , \" = \", p * num)"
      ],
      "metadata": {
        "id": "9zyIBs3IhEy7"
      },
      "execution_count": null,
      "outputs": []
    },
    {
      "cell_type": "markdown",
      "source": [
        "Escribir un programa que pregunte al usuario su edad y\n",
        "muestre por pantalla todos los años que ha cumplido\n",
        "(desde 1 hasta su edad). ciclo for"
      ],
      "metadata": {
        "id": "GYbTu4tzhFqA"
      }
    },
    {
      "cell_type": "code",
      "source": [
        "Edad = int(input(\"Digite su Edad: \"))\n",
        "for i in range(Edad):\n",
        "  print(i)"
      ],
      "metadata": {
        "id": "9F6hlNrCS4B1"
      },
      "execution_count": null,
      "outputs": []
    }
  ]
}